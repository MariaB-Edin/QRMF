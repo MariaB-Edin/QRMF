{
 "cells": [
  {
   "cell_type": "markdown",
   "metadata": {},
   "source": [
    "# QRMF Stata in Noteable\n",
    "\n",
    "This content is authored by Maria Boutchkova for use in the University of Edinbugh Business School Quantitative research Methods in Finance course in Spring 2021.\n",
    "\n",
    "Make sure to have watched the videos preceeding this Notebook and have covered the slides. Detailed explanations in the assigned textbook chapters.\n",
    "\n",
    "This lesson covers:\n",
    "\n",
    "* Summary statistics, regression and scatter plot in Stata for the excess return of an individual asset on the excess return of the market portfolio\n",
    "\n",
    "The first computational cell below (with In [ ] in front) contains the solution. Go over the command lines, make sure they make sense to you, click inside the cell, it should become surrounded by a green rectangle, press Esc - the rectangle will become blue, now press Shift+Enter - this will execute the cell and produce the results beneath it.\n",
    "\n",
    "To remove all output in the notebook and start again, go to the Kernel tab above, select Restart and Clear Output.\n",
    "\n",
    "In this notebook we use the functionality of Stata. If you want to explore its full documetation, see here: https://www.stata.com/bookstore/getting-started-windows/\n",
    "\n",
    "The comment sign in Stata is * not #"
   ]
  },
  {
   "cell_type": "code",
   "execution_count": 1,
   "metadata": {},
   "outputs": [
    {
     "name": "stdout",
     "output_type": "stream",
     "text": [
      "(78 vars, 310 obs)\n"
     ]
    }
   ],
   "source": [
    "* import raw data saved in csv format\n",
    "import delimited data.csv, varnames(1) clear"
   ]
  },
  {
   "cell_type": "raw",
   "metadata": {},
   "source": [
    "We are now going to use a so called magic.\n",
    "\n",
    "Magics are programs provided by stata_kernel that enhance the experience of working with Stata in Jupyter Notebooks (i.e. Noteable).\n",
    "\n",
    "Magics start with %.\n",
    "\n",
    "The browse magic simply shows us the data in memory."
   ]
  },
  {
   "cell_type": "code",
   "execution_count": null,
   "metadata": {},
   "outputs": [],
   "source": [
    "%browse"
   ]
  },
  {
   "cell_type": "raw",
   "metadata": {},
   "source": [
    "The %help magic allows you to pull stata documentation inside the current notebook. Feel free to do this for every command you see used below - regress and scatter."
   ]
  },
  {
   "cell_type": "code",
   "execution_count": null,
   "metadata": {},
   "outputs": [],
   "source": [
    "%help import delimited"
   ]
  },
  {
   "cell_type": "markdown",
   "metadata": {},
   "source": [
    "# Solved Problem: Summary statistics, regression and scatter plot\n",
    "\n",
    "Now that our data is imported and ready for use let us produce summary stats for two variables: the first stock AMEX:LNG on the mkt index. Next we shall run the regression and examine the results and finally we shall plot the data and the linear fit."
   ]
  },
  {
   "cell_type": "code",
   "execution_count": null,
   "metadata": {},
   "outputs": [],
   "source": [
    "* summary stats for snp and AMEX:LNG\n",
    "* note that Stata does not like capital letters in naming variables, \n",
    "* it automatically removed the : from the tickers and made them into small caps\n",
    "* Below I am issuing the command summarize (abbreviated as sum) on the variables snp and amexlng\n",
    "sum snp amexlng"
   ]
  },
  {
   "cell_type": "code",
   "execution_count": null,
   "metadata": {},
   "outputs": [],
   "source": [
    "* regress amexlng on snp, the command is regress (abbreviated as reg)\n",
    "reg amexlng snp"
   ]
  },
  {
   "cell_type": "code",
   "execution_count": null,
   "metadata": {},
   "outputs": [],
   "source": [
    "* plot the data\n",
    "scatter amexlng snp\n",
    "* plot the data and the linear fit (aka Secutiry Characteristic Line)\n",
    "scatter amexlng snp || lfit amexlng snp \n",
    "* plot the data and the linear fit plus additonal tweaks to the way the graph is displayed\n",
    "scatter amexlng snp || lfit amexlng snp , title(\"Data and linear fit of R* AMEX:LNG on R* SnP\") legend(off) ytitle(\"R* AMEX:LNG\") xtitle(\"R* SnP\")"
   ]
  },
  {
   "cell_type": "markdown",
   "metadata": {},
   "source": [
    "# Solved Problem: Show regression equation on a graph\n",
    "\n",
    "If you would like to show the regression equation of the linear fit on the graph, here is how to do this."
   ]
  },
  {
   "cell_type": "code",
   "execution_count": null,
   "metadata": {},
   "outputs": [],
   "source": [
    "* run the regression again so that the estimation results are fresh in Stata's memory\n",
    "* I am using the prefix quietly (abbrevaited qui) to suppress the output since we saw it above\n",
    "qui reg amexlng snp\n",
    "* save the coefficients in containers called local macros in Stata\n",
    "* we save into a container called a the constant of the regression referred to as _b[_cons] \n",
    "* and stored in numeric format of 5 digits after the decimal point and a total of 7 spaces for the whole number\n",
    "* 2 spaces for 1 digit before the decimal point plus 1 space for the decimal point itself\n",
    "local a: di %7.5f _b[_cons]\n",
    "local b: di %7.5f _b[snp]\n",
    "* once the local macros are declared, we refer to them in Stata by enclosing them in `'\n",
    "* we declare another local macro containing the equation\n",
    "* we enclose the slope coef in parentheses in case it is negative\n",
    "local eq \"y = `a' + (`b')x\"\n",
    "* now issue the graphing command line with the added option text() containing the regression equation\n",
    "* the option text() requires two argiments for the location we want Stata to place the text in x-y coordinates\n",
    "scatter amexlng snp || lfit amexlng snp , ///\n",
    "    title(\"Data and linear fit of R* AMEX:LNG on R* SnP\") legend(off) ytitle(\"R* AMEX:LNG\") xtitle(\"R* SnP\") ///\n",
    "    text(.22 .13 \"`eq'\")"
   ]
  },
  {
   "cell_type": "markdown",
   "metadata": {},
   "source": [
    "# Practice Problem 1: Summary statistics, simple regression and scatter plot\n",
    "\n",
    "Now perform these same steps for the second stock in the data: ASX:ALX."
   ]
  },
  {
   "cell_type": "code",
   "execution_count": null,
   "metadata": {},
   "outputs": [],
   "source": [
    "* summary stats for snp and ASX:ALX\n"
   ]
  },
  {
   "cell_type": "code",
   "execution_count": null,
   "metadata": {},
   "outputs": [],
   "source": [
    "* regress ASX:ALX on snp\n"
   ]
  },
  {
   "cell_type": "code",
   "execution_count": null,
   "metadata": {},
   "outputs": [],
   "source": [
    "* plot the data and the linear fit (aka SCL)\n"
   ]
  },
  {
   "cell_type": "markdown",
   "metadata": {},
   "source": [
    "# Practice Problem 2: Show regression equation on a graph\n",
    "\n",
    "Try to show the regression equation of the linear fit on the graph."
   ]
  },
  {
   "cell_type": "code",
   "execution_count": null,
   "metadata": {},
   "outputs": [],
   "source": [
    "* run the regression again\n",
    "\n",
    "* save the coefficients in local macros\n",
    "\n",
    "* graph\n"
   ]
  }
 ],
 "metadata": {
  "kernelspec": {
   "display_name": "Stata",
   "language": "stata",
   "name": "stata"
  },
  "language_info": {
   "codemirror_mode": "stata",
   "file_extension": ".do",
   "mimetype": "text/x-stata",
   "name": "stata",
   "version": "15.1"
  }
 },
 "nbformat": 4,
 "nbformat_minor": 4
}
